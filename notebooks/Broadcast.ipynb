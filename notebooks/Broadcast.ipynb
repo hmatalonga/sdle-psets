{
 "cells": [
  {
   "cell_type": "code",
   "execution_count": 1,
   "metadata": {},
   "outputs": [],
   "source": [
    "import random\n",
    "import warnings\n",
    "import networkx as nx\n",
    "import matplotlib.pyplot as plt\n",
    "\n",
    "from queue import Queue\n",
    "\n",
    "%matplotlib inline\n",
    "warnings.filterwarnings('ignore')"
   ]
  },
  {
   "cell_type": "code",
   "execution_count": 2,
   "metadata": {},
   "outputs": [],
   "source": [
    "def init_graph(n, weight=1):\n",
    "    G = nx.Graph()\n",
    "    G.add_nodes_from(range(n), weight=weight)\n",
    "    \n",
    "    return G"
   ]
  },
  {
   "cell_type": "code",
   "execution_count": 3,
   "metadata": {},
   "outputs": [],
   "source": [
    "def create_conn_graph(n, fn):\n",
    "    # Create graph with given number of nodes\n",
    "    G = init_graph(n)\n",
    "    \n",
    "    # While G is not connected\n",
    "    while not fn(G):\n",
    "        # Sample 2 nodes from G\n",
    "        a, b = random.sample(list(G), 2)\n",
    "        \n",
    "        # Add edge\n",
    "        G.add_edge(a, b)\n",
    "        \n",
    "    return G"
   ]
  },
  {
   "cell_type": "code",
   "execution_count": 4,
   "metadata": {},
   "outputs": [],
   "source": [
    "def create_pref_graph(n, fn):\n",
    "    # Create graph with given number of nodes\n",
    "    G = init_graph(n)\n",
    "    \n",
    "    # While G is not connected\n",
    "    while not fn(G):\n",
    "        # Create a bag with nodes, each node has as many elements as its weight\n",
    "        probs = [[node] * G.node[node]['weight'] for node in G.nodes]\n",
    "        \n",
    "        # Flatten the list\n",
    "        probs = [y for x in probs for y in x]\n",
    "        \n",
    "        # Pick a node from G and a node from probality list\n",
    "        a, b = random.choice(list(G)), random.choice(probs)\n",
    "        \n",
    "        # Add edge\n",
    "        G.add_edge(a, b)\n",
    "        \n",
    "        try:\n",
    "            # Try to find a cycle\n",
    "            nx.find_cycle(G)\n",
    "        \n",
    "            # If so, remove the selected edge\n",
    "            G.remove_edge(a, b)\n",
    "        except:\n",
    "            # Else, increment weight of nodes\n",
    "            G.node[a]['weight'] += 1 \n",
    "            G.node[b]['weight'] += 1\n",
    "            \n",
    "    return G"
   ]
  },
  {
   "cell_type": "code",
   "execution_count": 5,
   "metadata": {},
   "outputs": [],
   "source": [
    "def init_queues(length):\n",
    "    return [Queue() for _ in range(0, length)]\n",
    "\n",
    "def init_nodes(length):\n",
    "    return [0] * length"
   ]
  },
  {
   "cell_type": "code",
   "execution_count": 6,
   "metadata": {},
   "outputs": [],
   "source": [
    "def has_messages(queue):\n",
    "    # Filter nodes with messages only\n",
    "    nodes = list(filter(lambda x: not x.empty(), queue))\n",
    "    \n",
    "    return len(nodes) > 0\n",
    "\n",
    "def neighbors(graph, node, percentage=100):\n",
    "    # Sample a percentage group of neighbors\n",
    "    neighbors = list(graph.neighbors(node))\n",
    "    return random.sample(neighbors, round(len(neighbors) * percentage/100))"
   ]
  },
  {
   "cell_type": "code",
   "execution_count": 7,
   "metadata": {},
   "outputs": [],
   "source": [
    "def broadcast(G, percentage):\n",
    "    # Init queues\n",
    "    phase = 0\n",
    "    discover_queue = Queue()                    # discover queue\n",
    "    reached = init_nodes(nx.number_of_nodes(G)) # list of reached nodes\n",
    "    queues = init_queues(nx.number_of_nodes(G)) # individual nodes queues\n",
    "\n",
    "    # Round 0 #\n",
    "    # Pick an initial node\n",
    "    initial_node = random.choice(list(G))\n",
    "    \n",
    "    for node in neighbors(G, initial_node, percentage):\n",
    "        # Put each neighbor node in discover queue\n",
    "        discover_queue.put(node)\n",
    "        # Put current round in its node queue\n",
    "        queues[node].put(phase)\n",
    "    \n",
    "    # Mark initial_node to reached\n",
    "    reached[initial_node] = 1\n",
    "    # Increment round\n",
    "    phase += 1\n",
    "\n",
    "    # Next rounds #\n",
    "    # While there are nodes with messages\n",
    "    while has_messages(queues):\n",
    "        # Create a new empty discover queue\n",
    "        next_discover_queue = Queue()\n",
    "        \n",
    "        # While discover queue is not empty\n",
    "        while not discover_queue.empty():\n",
    "            # Get next_node from queue\n",
    "            next_node = discover_queue.get()\n",
    "            \n",
    "            # Mark next_node to reached if not already\n",
    "            if reached[next_node] == 0:\n",
    "                reached[next_node] = 1\n",
    "                \n",
    "                # Clear queue of next_node since its reached\n",
    "                with queues[next_node].mutex:\n",
    "                    queues[next_node].queue.clear()\n",
    "                \n",
    "                # For each neighbor of next_node\n",
    "                for node in neighbors(G, next_node, percentage):\n",
    "                    # If not reached\n",
    "                    if reached[node] == 0:\n",
    "                        # Put node in next discover queue\n",
    "                        next_discover_queue.put(node)\n",
    "                        # Put next round in its node queue\n",
    "                        queues[node].put(phase+1)\n",
    "        \n",
    "        # Increment round\n",
    "        phase += 1\n",
    "        # Set current discover queue to the following one\n",
    "        discover_queue = next_discover_queue\n",
    "    \n",
    "    # Percentage of reached nodes in G\n",
    "    return reached.count(1) / nx.number_of_nodes(G) * 100"
   ]
  },
  {
   "cell_type": "code",
   "execution_count": 8,
   "metadata": {},
   "outputs": [],
   "source": [
    "def draw_plot(x, y, figsize=(14, 8), output_dir=None):\n",
    "    plt.figure(figsize=figsize)\n",
    "    plt.xlabel('% Selected')\n",
    "    plt.ylabel('% Reached')\n",
    "    \n",
    "    plt.grid(True)\n",
    "    \n",
    "    plt.plot(x, y, marker='o', label='g(x)')  \n",
    "    \n",
    "    if output_dir is not None:\n",
    "        plt.savefig(output_dir)"
   ]
  },
  {
   "cell_type": "code",
   "execution_count": 9,
   "metadata": {},
   "outputs": [],
   "source": [
    "def make_broadcast(n, trials, create, fn, pct):\n",
    "    # Create graph\n",
    "    G = create(n, fn)\n",
    "    \n",
    "    # Sum the percentages\n",
    "    total = sum([\n",
    "        broadcast(G, pct)\n",
    "        for _ in range(trials)\n",
    "    ])\n",
    "    \n",
    "    # Return average percentage\n",
    "    return total / trials"
   ]
  },
  {
   "cell_type": "code",
   "execution_count": 10,
   "metadata": {},
   "outputs": [],
   "source": [
    "def main():\n",
    "    nodes = 100\n",
    "    trials = 10\n",
    "    step = 10\n",
    "    begin = 0\n",
    "    end = 100 + step\n",
    "    cond = lambda x : nx.is_connected(x)\n",
    "    \n",
    "    results = [\n",
    "        (pct, make_broadcast(nodes, trials, create_conn_graph, cond, pct))\n",
    "        for pct in range(begin, end, step)\n",
    "    ]\n",
    "    \n",
    "    x, y = list(zip(*results))\n",
    "\n",
    "    draw_plot(x, y)"
   ]
  },
  {
   "cell_type": "code",
   "execution_count": 11,
   "metadata": {},
   "outputs": [
    {
     "data": {
      "image/png": "[encoded data removed]",
      "text/plain": [
       "<Figure size 1008x576 with 1 Axes>"
      ]
     },
     "metadata": {
      "needs_background": "light"
     },
     "output_type": "display_data"
    }
   ],
   "source": [
    "if __name__ == '__main__':\n",
    "    main()"
   ]
  }
 ],
 "metadata": {
  "kernelspec": {
   "display_name": "Python 3",
   "language": "python",
   "name": "python3"
  },
  "language_info": {
   "codemirror_mode": {
    "name": "ipython",
    "version": 3
   },
   "file_extension": ".py",
   "mimetype": "text/x-python",
   "name": "python",
   "nbconvert_exporter": "python",
   "pygments_lexer": "ipython3",
   "version": "3.7.1"
  }
 },
 "nbformat": 4,
 "nbformat_minor": 2
}
