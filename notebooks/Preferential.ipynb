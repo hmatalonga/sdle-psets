{
 "cells": [
  {
   "cell_type": "code",
   "execution_count": 241,
   "metadata": {},
   "outputs": [],
   "source": [
    "import random\n",
    "import warnings\n",
    "import networkx as nx\n",
    "import numpy as np\n",
    "import matplotlib.pyplot as plt\n",
    "\n",
    "from collections import Counter\n",
    "from collections import OrderedDict\n",
    "\n",
    "%matplotlib inline\n",
    "warnings.filterwarnings('ignore')"
   ]
  },
  {
   "cell_type": "code",
   "execution_count": 242,
   "metadata": {},
   "outputs": [],
   "source": [
    "def init_graph(n, weight=1):\n",
    "    G = nx.Graph()\n",
    "    G.add_nodes_from(range(n), weight=weight)\n",
    "    \n",
    "    return G"
   ]
  },
  {
   "cell_type": "code",
   "execution_count": 243,
   "metadata": {},
   "outputs": [],
   "source": [
    "def create_graph(n, fn):\n",
    "    # Create graph with given number of nodes\n",
    "    G = init_graph(n)\n",
    "    \n",
    "    # While G is not connected\n",
    "    while not fn(G):\n",
    "        # Create a bag with nodes, each node has as many elements as its weight\n",
    "        probs = [[node] * G.node[node]['weight'] for node in G.nodes]\n",
    "        \n",
    "        # Flatten the list\n",
    "        probs = [y for x in probs for y in x]\n",
    "        \n",
    "        # Pick a node from G and a node from probality list\n",
    "        a, b = random.choice(list(G)), random.choice(probs)\n",
    "        \n",
    "        # Add edge\n",
    "        G.add_edge(a, b)\n",
    "        \n",
    "        try:\n",
    "            # Try to find a cycle\n",
    "            nx.find_cycle(G)\n",
    "        \n",
    "            # If so, remove the selected edge\n",
    "            G.remove_edge(a, b)\n",
    "        except:\n",
    "            # Else, increment weight of nodes\n",
    "            G.node[a]['weight'] += 1 \n",
    "            G.node[b]['weight'] += 1\n",
    "            \n",
    "    return G"
   ]
  },
  {
   "cell_type": "code",
   "execution_count": 244,
   "metadata": {},
   "outputs": [],
   "source": [
    "def create_preferential(n, fn):\n",
    "    ct = Counter([degree for (node, degree) in create_graph(n, fn).degree()])\n",
    "    \n",
    "    return OrderedDict(sorted(ct.items()))"
   ]
  },
  {
   "cell_type": "code",
   "execution_count": 245,
   "metadata": {},
   "outputs": [],
   "source": [
    "def draw_graph(G, output_dir=None):\n",
    "    nx.draw(G)\n",
    "    \n",
    "    if output_dir is not None:\n",
    "        plt.savefig(output_dir)"
   ]
  },
  {
   "cell_type": "code",
   "execution_count": 246,
   "metadata": {},
   "outputs": [],
   "source": [
    "def draw_plot(x, y, figsize=(14, 8), output_dir=None):\n",
    "    plt.figure(figsize=figsize)\n",
    "    plt.xlabel('Degree')\n",
    "    plt.ylabel('Nodes')\n",
    "    \n",
    "    plt.grid(True)\n",
    "    \n",
    "    plt.plot(x, y, marker='o', color='r')\n",
    "    \n",
    "    if output_dir is not None:\n",
    "        plt.savefig(output_dir)"
   ]
  },
  {
   "cell_type": "code",
   "execution_count": 247,
   "metadata": {},
   "outputs": [],
   "source": [
    "def main():\n",
    "    nodes = 100\n",
    "    cond = lambda x : nx.is_connected(x)\n",
    "    \n",
    "    print('Running for {} nodes...'.format(nodes))\n",
    "    \n",
    "    results = create_preferential(nodes, cond)\n",
    "    \n",
    "    for k, v in results.items():\n",
    "        print('{:>1} degree => {:>2} total'.format(k, v))\n",
    "    \n",
    "    x, y = zip(*results.items())\n",
    "    \n",
    "    draw_plot(x, y)"
   ]
  },
  {
   "cell_type": "code",
   "execution_count": 248,
   "metadata": {},
   "outputs": [
    {
     "name": "stdout",
     "output_type": "stream",
     "text": [
      "Running for 100 nodes...\n",
      "1 degree => 50 total\n",
      "2 degree => 20 total\n",
      "3 degree => 17 total\n",
      "4 degree =>  9 total\n",
      "5 degree =>  3 total\n",
      "6 degree =>  1 total\n"
     ]
    },
    {
     "data": {
      "image/png": "[encoded data removed]",
      "text/plain": [
       "<Figure size 1008x576 with 1 Axes>"
      ]
     },
     "metadata": {
      "needs_background": "light"
     },
     "output_type": "display_data"
    }
   ],
   "source": [
    "if __name__ == '__main__':\n",
    "    main()"
   ]
  }
 ],
 "metadata": {
  "kernelspec": {
   "display_name": "Python 3",
   "language": "python",
   "name": "python3"
  },
  "language_info": {
   "codemirror_mode": {
    "name": "ipython",
    "version": 3
   },
   "file_extension": ".py",
   "mimetype": "text/x-python",
   "name": "python",
   "nbconvert_exporter": "python",
   "pygments_lexer": "ipython3",
   "version": "3.7.1"
  }
 },
 "nbformat": 4,
 "nbformat_minor": 2
}
